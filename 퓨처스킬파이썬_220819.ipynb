{
  "nbformat": 4,
  "nbformat_minor": 0,
  "metadata": {
    "colab": {
      "name": "퓨처스킬파이썬 220819.ipynb",
      "provenance": [],
      "toc_visible": true,
      "collapsed_sections": [],
      "authorship_tag": "ABX9TyNv7db/fD6yQd8Cdl93LM+F",
      "include_colab_link": true
    },
    "kernelspec": {
      "name": "python3",
      "display_name": "Python 3"
    },
    "language_info": {
      "name": "python"
    }
  },
  "cells": [
    {
      "cell_type": "markdown",
      "metadata": {
        "id": "view-in-github",
        "colab_type": "text"
      },
      "source": [
        "<a href=\"https://colab.research.google.com/github/brunomarschuck/FutureSkill/blob/main/%ED%93%A8%EC%B2%98%EC%8A%A4%ED%82%AC%ED%8C%8C%EC%9D%B4%EC%8D%AC_220819.ipynb\" target=\"_parent\"><img src=\"https://colab.research.google.com/assets/colab-badge.svg\" alt=\"Open In Colab\"/></a>"
      ]
    },
    {
      "cell_type": "markdown",
      "source": [
        "# *1. PL005 while 반복문*\n",
        "https://futureskill.io/content/fc7cf0ab-d465-44a9-bd76-620af2049da0"
      ],
      "metadata": {
        "id": "odUiuBL54PO1"
      }
    },
    {
      "cell_type": "code",
      "source": [
        "# 답\n",
        "as = 'hello'\n",
        "1age = 3.14"
      ],
      "metadata": {
        "id": "cw6VqXhQ4YW4"
      },
      "execution_count": null,
      "outputs": []
    },
    {
      "cell_type": "markdown",
      "source": [
        "### **(1) 개념**\n",
        "(while 반복문에서의)  \n",
        "continue  \n",
        "break  \n",
        "\n",
        "\n",
        "---\n",
        "while로 돌아가기  \n",
        "while을 끝내기\n",
        "\n",
        "    \n"
      ],
      "metadata": {
        "id": "j0s9WSTf6Bf5"
      }
    },
    {
      "cell_type": "markdown",
      "source": [
        "# *2. PL006 튜플과 딕셔너리*\n",
        "https://futureskill.io/content/cc9755c0-a2e7-4384-b769-02b57b09f3b6"
      ],
      "metadata": {
        "id": "4V8FDSHuCoa0"
      }
    },
    {
      "cell_type": "markdown",
      "source": [
        "## 4) 박하맛 사탕 바꿔주기 (자료형)\n",
        "\n",
        "### **문제**\n",
        "\n",
        "패킹과 언패킹을 사용하여, 사탕을 바꾸어주는 코드를 작성하세요.\n",
        "\n",
        "### **베이스라인**\n",
        "```\n",
        "dodo = '박하맛'\n",
        "alice = '딸기맛'\n",
        "\n",
        "print('도도새 :', dodo,'앨리스 :', alice)\n",
        "\n",
        "'''\n",
        "code here\n",
        "'''\n",
        "\n",
        "print('도도새 :', dodo,'앨리스 :', alice)\n",
        "```\n",
        "\n",
        "### **Output**\n",
        "```\n",
        "도도새 : 박하맛 앨리스 : 딸기맛\n",
        "도도새 : 딸기맛 앨리스 : 박하맛\n",
        "```"
      ],
      "metadata": {
        "id": "WshlLkU-FUTi"
      }
    },
    {
      "cell_type": "code",
      "source": [
        "# 내 답안\n",
        "dodo = '박하맛'\n",
        "alice = '딸기맛'\n",
        "print('도도새 :', dodo,'앨리스 :', alice)\n",
        "\n",
        "dodo, alice = alice, dodo   # alice, dodo로 패킹한 것을 dodo, alice로 언패킹\n",
        "print('도도새 :', dodo,'앨리스 :', alice)"
      ],
      "metadata": {
        "colab": {
          "base_uri": "https://localhost:8080/"
        },
        "id": "CYRpGwTHFgH_",
        "outputId": "1481da76-3e2b-4b2c-8a3e-1af0b21ac49f"
      },
      "execution_count": null,
      "outputs": [
        {
          "output_type": "stream",
          "name": "stdout",
          "text": [
            "도도새 : 박하맛 앨리스 : 딸기맛\n",
            "도도새 : 딸기맛 앨리스 : 박하맛\n"
          ]
        }
      ]
    },
    {
      "cell_type": "markdown",
      "source": [
        "### **(1) 개념**\n",
        "패킹  \n",
        "언패킹\n",
        "\n",
        "\n",
        "---\n",
        "여러 개의 값을 하나의 변수에 넣는 것, 튜플이 됨  \n",
        "패킹한 것을 여러 변수에 할당하는 것, 튜플이나 리스트에 모두 사용 가능\n",
        "    \n"
      ],
      "metadata": {
        "id": "DffRcAEoPMTJ"
      }
    },
    {
      "cell_type": "markdown",
      "source": [
        "# *3. PL007 함수와 모듈*\n",
        "https://futureskill.io/content/e9c4fe35-4d44-41ea-a4ca-40e8089534ba"
      ],
      "metadata": {
        "id": "yNnNlzvXLWly"
      }
    },
    {
      "cell_type": "markdown",
      "source": [
        "## 2) 좀 더 효율적인 판결 (함수)\n",
        "\n",
        "### **문제**\n",
        "코드1과 코드2은 동일한 Output을 출력하는 코드입니다.\n",
        "\n",
        "함수를 활용해 베이스라인의 코드1을 완성해주세요.\n",
        "\n",
        "### **베이스라인**\n",
        "```\n",
        "# 코드1\n",
        "def judge_cards(name) : \n",
        "\t'''\n",
        "\tcode here\n",
        "\t'''\n",
        "judge_cards('하트')\n",
        "judge_cards('클로버')\n",
        "judge_cards('스페이드')\n",
        "\n",
        "# 코드2\n",
        "print('하트 1 유죄!')\n",
        "print('하트 2 유죄!')\n",
        "print('하트 3 유죄!')\n",
        "print('클로버 1 유죄!')\n",
        "print('클로버 2 유죄!')\n",
        "print('클로버 3 유죄!')\n",
        "print('스페이드 1 유죄!')\n",
        "print('스페이드 2 유죄!')\n",
        "print('스페이드 3 유죄!')\n",
        "```\n",
        "\n",
        "### **Output**\n",
        "```\n",
        "하트 1 유죄!\n",
        "하트 2 유죄!\n",
        "하트 3 유죄!\n",
        "클로버 1 유죄!\n",
        "클로버 2 유죄!\n",
        "클로버 3 유죄!\n",
        "스페이드 1 유죄!\n",
        "스페이드 2 유죄!\n",
        "스페이드 3 유죄!\n",
        "```"
      ],
      "metadata": {
        "id": "clorY5sOLnKc"
      }
    },
    {
      "cell_type": "code",
      "source": [
        "# 내 답안\n",
        "def judge_cards(name) :  # 매번 숫자랑 텍스트 입력하기 힘드니까 함수 만들기\n",
        "  for i in range(1, 4) :\n",
        "    print(name, i, '유죄!')\n",
        "judge_cards('하트')\n",
        "judge_cards('클로버')\n",
        "judge_cards('스페이드')"
      ],
      "metadata": {
        "colab": {
          "base_uri": "https://localhost:8080/"
        },
        "id": "tfwnS3d_mAYM",
        "outputId": "dc0923db-8f6a-4a56-9e50-0a0433722e5f"
      },
      "execution_count": null,
      "outputs": [
        {
          "output_type": "stream",
          "name": "stdout",
          "text": [
            "하트 1 유죄!\n",
            "하트 2 유죄!\n",
            "하트 3 유죄!\n",
            "클로버 1 유죄!\n",
            "클로버 2 유죄!\n",
            "클로버 3 유죄!\n",
            "스페이드 1 유죄!\n",
            "스페이드 2 유죄!\n",
            "스페이드 3 유죄!\n"
          ]
        }
      ]
    }
  ]
}