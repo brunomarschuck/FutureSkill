{
  "nbformat": 4,
  "nbformat_minor": 0,
  "metadata": {
    "colab": {
      "name": "퓨처스킬파이썬 220818.ipynb",
      "provenance": [],
      "toc_visible": true,
      "collapsed_sections": [],
      "authorship_tag": "ABX9TyMMO6J3oaOTLEz13Tfxxtb8",
      "include_colab_link": true
    },
    "kernelspec": {
      "name": "python3",
      "display_name": "Python 3"
    },
    "language_info": {
      "name": "python"
    }
  },
  "cells": [
    {
      "cell_type": "markdown",
      "metadata": {
        "id": "view-in-github",
        "colab_type": "text"
      },
      "source": [
        "<a href=\"https://colab.research.google.com/github/brunomarschuck/FutureSkill/blob/main/%ED%93%A8%EC%B2%98%EC%8A%A4%ED%82%AC%ED%8C%8C%EC%9D%B4%EC%8D%AC_220818.ipynb\" target=\"_parent\"><img src=\"https://colab.research.google.com/assets/colab-badge.svg\" alt=\"Open In Colab\"/></a>"
      ]
    },
    {
      "cell_type": "markdown",
      "source": [
        "# *1. PL017 반복문*\n",
        "https://futureskill.io/content/db047bb7-6de1-4811-9bfa-3e82e256c5a1"
      ],
      "metadata": {
        "id": "odUiuBL54PO1"
      }
    },
    {
      "cell_type": "markdown",
      "source": [
        "## 1) for문 계산\n",
        "\n",
        "### **문제**\n",
        "\n",
        "다음 베이스라인의 출력값은 무엇인가요?\n",
        "\n",
        "### **베이스라인**\n",
        "```\n",
        "a = 10\n",
        "b = 2\n",
        "for i in range(1, 5, 2):\n",
        "    a += i\n",
        " \n",
        "print(a+b)\n",
        "```"
      ],
      "metadata": {
        "id": "brFYmhWI4jFN"
      }
    },
    {
      "cell_type": "code",
      "source": [
        "# 내 답안\n",
        "16"
      ],
      "metadata": {
        "id": "cw6VqXhQ4YW4"
      },
      "execution_count": null,
      "outputs": []
    },
    {
      "cell_type": "markdown",
      "source": [
        "### **(1) 개념**\n",
        "\n",
        "for i in range(a, b, c) : \n",
        "\n",
        "\n",
        "---\n",
        "i 값은 a 에서 b 전까지 c 씩 증가됨  \n",
        "\n",
        "    \n"
      ],
      "metadata": {
        "id": "j0s9WSTf6Bf5"
      }
    },
    {
      "cell_type": "code",
      "source": [
        "for i in range(1, 5, 2) :\n",
        "  print(i)"
      ],
      "metadata": {
        "colab": {
          "base_uri": "https://localhost:8080/"
        },
        "id": "QPcRGq2a4OPh",
        "outputId": "5986448b-ea0c-429f-93bf-31939feec326"
      },
      "execution_count": null,
      "outputs": [
        {
          "output_type": "stream",
          "name": "stdout",
          "text": [
            "1\n",
            "3\n"
          ]
        }
      ]
    },
    {
      "cell_type": "markdown",
      "source": [
        "### **(2) 설명**\n",
        "\n",
        "for 문은 a = a + 1, a = a + 3 이 되므로  \n",
        "\n",
        "a = 10 + 1+ 3 = 14 임.  \n",
        "\n",
        "a + b = 14 + 2 = 16"
      ],
      "metadata": {
        "id": "IUD33l8m7Gcz"
      }
    },
    {
      "cell_type": "markdown",
      "source": [
        "## 2) 구구단 출력하기\n",
        "\n",
        "### **문제**\n",
        "\n",
        "1~9까지의 숫자 중 하나를 입력하면 그 단의 구구단 결과를 한 줄에 출력하는 코드를 작성해보세요."
      ],
      "metadata": {
        "id": "25lPk6l24OJj"
      }
    },
    {
      "cell_type": "code",
      "source": [
        "# 내 답안\n",
        "num = int(input('1~9 중 원하는 숫자를 입력하세요 : '))\n",
        "\n",
        "for i in range(1,10) :\n",
        "  print(num * i, end = ' ')"
      ],
      "metadata": {
        "colab": {
          "base_uri": "https://localhost:8080/"
        },
        "id": "0qZrdW8N8VZO",
        "outputId": "1f9bf325-ea56-4d6b-876d-5c0a28292282"
      },
      "execution_count": null,
      "outputs": [
        {
          "output_type": "stream",
          "name": "stdout",
          "text": [
            "1~9 중 원하는 숫자를 입력하세요 : 7\n",
            "7 14 21 28 35 42 49 56 63 "
          ]
        }
      ]
    },
    {
      "cell_type": "code",
      "source": [
        "# 다른 사람 답안(콤마로 연결)\n",
        "j = int(input())\n",
        "\n",
        "for i in range(1,10) :\n",
        "    print(j*i,end='')\n",
        "    if i != 9 :\n",
        "        print(', ',end='')"
      ],
      "metadata": {
        "colab": {
          "base_uri": "https://localhost:8080/"
        },
        "id": "dfCkxPiD_t9o",
        "outputId": "00229b05-d465-498c-d726-e9c265991381"
      },
      "execution_count": null,
      "outputs": [
        {
          "output_type": "stream",
          "name": "stdout",
          "text": [
            "2\n",
            "2, 4, 6, 8, 10, 12, 14, 16, 18"
          ]
        }
      ]
    },
    {
      "cell_type": "markdown",
      "source": [
        "### **(1) 개념**\n",
        "print(a , end = ' ')\n",
        "\n",
        "\n",
        "---\n",
        "a 를 출력하고 줄바꿈이 아닌 ' ' 안의 값(이 경우는 띄어쓰기)로 끝냄"
      ],
      "metadata": {
        "id": "a26KpqAsloKM"
      }
    },
    {
      "cell_type": "code",
      "source": [
        "print('b')\n",
        "print('r')\n",
        "print('u')\n",
        "print('n')\n",
        "print('o')\n",
        "\n",
        "print('b', end = ' ')\n",
        "print('r', end = ' ')\n",
        "print('u', end = ' ')\n",
        "print('n', end = ' ')\n",
        "print('o', end = ' ')"
      ],
      "metadata": {
        "colab": {
          "base_uri": "https://localhost:8080/"
        },
        "id": "aAl8ZrC99J7o",
        "outputId": "bc36a50c-d625-41bc-c06a-1f8f85ef64e1"
      },
      "execution_count": null,
      "outputs": [
        {
          "output_type": "stream",
          "name": "stdout",
          "text": [
            "b\n",
            "r\n",
            "u\n",
            "n\n",
            "o\n",
            "b r u n o "
          ]
        }
      ]
    },
    {
      "cell_type": "markdown",
      "source": [
        "## 3) for문을 이용한 기본 활용\n",
        "\n",
        "### **문제**\n",
        "\n",
        "0부터 100까지를 모두 더하는 코드를 작성하세요. (단, for문을 활용하세요.)\n",
        "\n",
        "### **베이스라인**\n",
        "```\n",
        "sum = 0\n",
        "\n",
        "'''code here'''\n",
        "\n",
        "print(sum)\n",
        "```\n",
        "### **Output**\n",
        "```\n",
        "5050\n",
        "```"
      ],
      "metadata": {
        "id": "7GQcxidn-utD"
      }
    },
    {
      "cell_type": "code",
      "source": [
        "# 내 답안\n",
        "sum = 0\n",
        "\n",
        "for i in range(101) :\n",
        "  sum += i\n",
        "\n",
        "print(sum)"
      ],
      "metadata": {
        "id": "6vxf1zpe_Qpi"
      },
      "execution_count": null,
      "outputs": []
    },
    {
      "cell_type": "markdown",
      "source": [
        "## 4) 별 찍기\n",
        "\n",
        "### **문제**\n",
        "\n",
        "크리스마스 날, 은비는 친구들과 함께 파티를 하기로 했습니다.\n",
        "\n",
        "그런데, 크리스마스 트리를 사는 것을 깜빡하고 말았습니다. 온 가게를 돌아다녀 봤지만 크리스마스 트리는 모두 품절이었습니다.\n",
        "\n",
        "하는 수 없이 은비는 프로그래밍으로 트리를 만들기로 합니다. 은비를 위해 프로그램을 작성해 주세요.\n",
        "\n",
        "(단, 트리의 모양은 입력의 영향을 받습니다.)\n",
        "\n",
        "### **Input**\n",
        "```\n",
        "3\n",
        "5\n",
        "\n",
        "```\n",
        "### **Output**\n",
        "```\n",
        "  *\n",
        " ***\n",
        "*****\n",
        "    *\n",
        "   ***\n",
        "  *****\n",
        " *******\n",
        "*********\n",
        "```"
      ],
      "metadata": {
        "id": "fhhyjPDjAGnl"
      }
    },
    {
      "cell_type": "code",
      "source": [
        "# 내 답안\n",
        "n = int(input('숫자를 입력하세요 : '))\n",
        "n2 = int(input('두 번째 숫자를 입력하세요 : '))\n",
        "\n",
        "\n",
        "for i in range(1, n+1) : # 1부터 n까지\n",
        "  print(' ' * (n-i), end = ' ') # 빈칸 출력(n번째에 0개)\n",
        "  print('*' * (2 * i - 1)) # 별 홀수개 출력\n",
        "\n",
        "\n",
        "for i in range(1, n2+1) :\n",
        "  print(' ' * (n2-i), end = ' ')\n",
        "  print('*' * (2 * i - 1))"
      ],
      "metadata": {
        "colab": {
          "base_uri": "https://localhost:8080/"
        },
        "id": "4iXY93rBCDx_",
        "outputId": "67b1fa12-6f32-4e37-ee96-43d30a2d78a5"
      },
      "execution_count": null,
      "outputs": [
        {
          "output_type": "stream",
          "name": "stdout",
          "text": [
            "숫자를 입력하세요 : 3\n",
            "두 번째 숫자를 입력하세요 : 5\n",
            "   *\n",
            "  ***\n",
            " *****\n",
            "     *\n",
            "    ***\n",
            "   *****\n",
            "  *******\n",
            " *********\n"
          ]
        }
      ]
    },
    {
      "cell_type": "markdown",
      "source": [
        "# *2. PL018 리스트*\n",
        "https://futureskill.io/content/f2f84410-51c9-4817-89fc-bd8b89926e39"
      ],
      "metadata": {
        "id": "4V8FDSHuCoa0"
      }
    },
    {
      "cell_type": "markdown",
      "source": [
        "## 1) 리스트의 삭제\n",
        "\n",
        "### **문제**\n",
        "\n",
        "주어진 리스트에서 400, 500을 삭제하는 코드를 작성하세요.\n",
        "\n",
        "### **베이스라인**\n",
        "```\n",
        "nums = [100, 200, 300, 400, 500]\n",
        "\n",
        "'''\n",
        "code here\n",
        "'''\n",
        "\n",
        "print(nums)\n",
        "```\n",
        "\n",
        "### **Output**\n",
        "```\n",
        "[100, 200, 300]\n",
        "```"
      ],
      "metadata": {
        "id": "6saJsDM1CyOJ"
      }
    },
    {
      "cell_type": "code",
      "source": [
        "# 내 답안\n",
        "nums = [100, 200, 300, 400, 500]\n",
        "\n",
        "nums.remove(400)\n",
        "nums.remove(500)\n",
        "\n",
        "print(nums)"
      ],
      "metadata": {
        "id": "B-VKLCUPDA_X"
      },
      "execution_count": null,
      "outputs": []
    },
    {
      "cell_type": "code",
      "source": [
        "# 다른 사람 답안\n",
        "\n",
        "# del 명령어 활용\n",
        "nums = [100, 200, 300, 400, 500]\n",
        "\n",
        "del nums[-1]\n",
        "del nums[-1]\n",
        "\n",
        "print(nums)\n",
        "\n",
        "\n",
        "# pop() 활용\n",
        "nums = [100, 200, 300, 400, 500]\n",
        "\n",
        "nums.pop()\n",
        "nums.pop()\n",
        "\n",
        "print(nums)\n",
        "\n",
        "\n",
        "# slicing 활용\n",
        "nums = [100, 200, 300, 400, 500]\n",
        "\n",
        "nums = nums[0:3]\n",
        "\n",
        "print(nums)"
      ],
      "metadata": {
        "id": "BMrGbybgDEfP"
      },
      "execution_count": null,
      "outputs": []
    },
    {
      "cell_type": "markdown",
      "source": [
        "### **(1) 개념**\n",
        "리스트 a 가 있을 때,  \n",
        "\n",
        "a.remove(b)  \n",
        "del a[i]  \n",
        "a.pop()\n",
        "\n",
        "\n",
        "\n",
        "---\n",
        "a 에서 b를 삭제(값을 알 때)  \n",
        "a 에서 인덱스가 i 인 값을 삭제(인덱스를 알 때)  \n",
        "a 의 마지막 값을 반환(print 하면 나옴)하고 리스트에서 삭제 "
      ],
      "metadata": {
        "id": "liFMhm5hDRP1"
      }
    },
    {
      "cell_type": "code",
      "source": [
        "a = ['브루노', 23, True]\n",
        "a.remove(23)\n",
        "print(a)"
      ],
      "metadata": {
        "colab": {
          "base_uri": "https://localhost:8080/"
        },
        "id": "3ZyiVmamFwLZ",
        "outputId": "5fafcb9b-abcb-4556-8a0b-f7747e0a212f"
      },
      "execution_count": null,
      "outputs": [
        {
          "output_type": "stream",
          "name": "stdout",
          "text": [
            "['브루노', True]\n"
          ]
        }
      ]
    },
    {
      "cell_type": "code",
      "source": [
        "a = ['브루노', 23, True]\n",
        "del a[0]\n",
        "print(a)"
      ],
      "metadata": {
        "colab": {
          "base_uri": "https://localhost:8080/"
        },
        "id": "k9u20rjFF64d",
        "outputId": "e9639f3e-2960-4d62-c4ff-b4698ac58784"
      },
      "execution_count": null,
      "outputs": [
        {
          "output_type": "stream",
          "name": "stdout",
          "text": [
            "[23, True]\n"
          ]
        }
      ]
    },
    {
      "cell_type": "code",
      "source": [
        "a = ['브루노', 23, True]\n",
        "a.pop() # print 하면 True가 출력됨\n",
        "print(a)"
      ],
      "metadata": {
        "colab": {
          "base_uri": "https://localhost:8080/"
        },
        "id": "byildEx2GBrY",
        "outputId": "6ee84cdc-3597-4d40-efd2-e3a15f360faa"
      },
      "execution_count": null,
      "outputs": [
        {
          "output_type": "stream",
          "name": "stdout",
          "text": [
            "['브루노', 23]\n"
          ]
        }
      ]
    },
    {
      "cell_type": "markdown",
      "source": [
        "## 2) 리스트의 내장함수\n",
        "\n",
        "### **문제**\n",
        "\n",
        "주어진 리스트의 중간에 숫자를 삽입하는 코드를 작성하세요.\n",
        "\n",
        "### **베이스라인**\n",
        "```\n",
        "nums = [200, 100, 300]\n",
        "\n",
        "'''\n",
        "code here\n",
        "'''\n",
        "\n",
        "print(nums)\n",
        "```\n",
        "\n",
        "### **Output**\n",
        "```\n",
        "[200, 100, 10000, 300]\n",
        "```"
      ],
      "metadata": {
        "id": "WshlLkU-FUTi"
      }
    },
    {
      "cell_type": "code",
      "source": [
        "# 내 답안\n",
        "nums = [200, 100, 300]\n",
        "\n",
        "nums.insert(2, 10000)\n",
        "print(nums)"
      ],
      "metadata": {
        "colab": {
          "base_uri": "https://localhost:8080/"
        },
        "id": "CYRpGwTHFgH_",
        "outputId": "d069ecdd-d8dc-4fc4-8eb0-824e115ab046"
      },
      "execution_count": null,
      "outputs": [
        {
          "output_type": "stream",
          "name": "stdout",
          "text": [
            "[200, 100, 10000, 300]\n"
          ]
        }
      ]
    },
    {
      "cell_type": "markdown",
      "source": [
        "### **(1) 개념**\n",
        "리스트 a 가 있을 때,  \n",
        "\n",
        "a.insert(i, b)  \n",
        "\n",
        "\n",
        "\n",
        "---\n",
        "i 번째 인덱스에 b 값을 추가"
      ],
      "metadata": {
        "id": "CbKk_Zx3GSA7"
      }
    },
    {
      "cell_type": "markdown",
      "source": [
        "## 3) 변형된 리스트\n",
        "\n",
        "### **문제**\n",
        "\n",
        "다음과 같이 리스트를 조작하는 코드를 작성하세요.\n",
        "\n",
        "### **Input**\n",
        "```\n",
        "a = [1, 2, 3, 4]\n",
        "b = ['a', 'b', 'c', 'd']\n",
        "```\n",
        "\n",
        "### **Output**\n",
        "```\n",
        "[[1, 'a'], ['b', 2], [3, 'c'], ['d', 4]]\n",
        "```"
      ],
      "metadata": {
        "id": "1v6cN_pAGkdt"
      }
    },
    {
      "cell_type": "code",
      "source": [
        "# 내 답안\n",
        "a = [1, 2, 3, 4]\n",
        "b = ['a', 'b', 'c', 'd']\n",
        "c = []\n",
        "\n",
        "for i in range(1, 5) :\n",
        "  if i % 2 == 1 : # 홀수 번째\n",
        "    c.append([a[i-1],b[i-1]])\n",
        "  else : # 짝수 번째\n",
        "    c.append([b[i-1],a[i-1]])\n",
        "print(c)"
      ],
      "metadata": {
        "colab": {
          "base_uri": "https://localhost:8080/"
        },
        "id": "jqbeuAQPG1Bh",
        "outputId": "5a02ad71-a537-480f-85fe-47c355b10822"
      },
      "execution_count": null,
      "outputs": [
        {
          "output_type": "stream",
          "name": "stdout",
          "text": [
            "[[1, 'a'], ['b', 2], [3, 'c'], ['d', 4]]\n"
          ]
        }
      ]
    },
    {
      "cell_type": "code",
      "source": [
        "# 다른 사람 답안\n",
        "a = [1, 2, 3, 4]\n",
        "b = ['a', 'b', 'c', 'd']\n",
        "\n",
        "[[i,j] if i%2==1 else [j,i] for i,j in zip(a,b)]"
      ],
      "metadata": {
        "colab": {
          "base_uri": "https://localhost:8080/"
        },
        "id": "5l5bUW6CHT-6",
        "outputId": "cd4952e5-8173-45c1-e63f-65892eeec258"
      },
      "execution_count": null,
      "outputs": [
        {
          "output_type": "execute_result",
          "data": {
            "text/plain": [
              "[[1, 'a'], ['b', 2], [3, 'c'], ['d', 4]]"
            ]
          },
          "metadata": {},
          "execution_count": 37
        }
      ]
    },
    {
      "cell_type": "markdown",
      "source": [
        "### **(1) 개념**\n",
        "리스트 a, b 가 있을 때,  \n",
        "\n",
        "zip(a,b)  \n",
        "i, j in zip(a,b)\n",
        "\n",
        "\n",
        "---\n",
        "두 리스트를 짝지어줌  \n",
        "짝지어진 두 리스트의 값을 불러옴"
      ],
      "metadata": {
        "id": "wmuUpJ5hHQrW"
      }
    },
    {
      "cell_type": "code",
      "source": [
        "a = [100, 200, 300]\n",
        "b = ['혜수', '호동', '미란']\n",
        "\n",
        "for i,j in zip(a,b) :\n",
        "  print(i,j)"
      ],
      "metadata": {
        "colab": {
          "base_uri": "https://localhost:8080/"
        },
        "id": "BEGUM8cjHyZj",
        "outputId": "0d8ef843-28ed-4b9b-edb5-599ad3f094e0"
      },
      "execution_count": null,
      "outputs": [
        {
          "output_type": "stream",
          "name": "stdout",
          "text": [
            "100 혜수\n",
            "200 호동\n",
            "300 미란\n"
          ]
        }
      ]
    },
    {
      "cell_type": "markdown",
      "source": [
        "## 4) enumerate\n",
        "\n",
        "### **문제**\n",
        "\n",
        "새학기가 되어 이름을 가나다 순서대로 배정하고 번호를 매기려고 합니다.\n",
        "\n",
        "입력받은 명단 리스트를 처리하여, 이름과 번호를 아래와 같이 출력하는 코드를 작성해주세요.\n",
        "\n",
        "### **베이스라인**\n",
        "```\n",
        "student = ['강은지','김유정','박현서','최성훈','홍유진',\n",
        "           '박지호','권윤일','김채리','한지호','김진이',\n",
        "           '김민호','강채연']\n",
        "\n",
        "'''\n",
        "code here\n",
        "'''\n",
        "```\n",
        "\n",
        "### **Output**\n",
        "```\n",
        "번호: 1, 이름: 강은지\n",
        "번호: 2, 이름: 강채연\n",
        "번호: 3, 이름: 권윤일\n",
        "번호: 4, 이름: 김민호\n",
        "번호: 5, 이름: 김유정\n",
        "번호: 6, 이름: 김진이\n",
        "번호: 7, 이름: 김채리\n",
        "번호: 8, 이름: 박지호\n",
        "번호: 9, 이름: 박현서\n",
        "번호: 10, 이름: 최성훈\n",
        "번호: 11, 이름: 한지호\n",
        "번호: 12, 이름: 홍유진\n",
        "```"
      ],
      "metadata": {
        "id": "Tsd7avBLIOkE"
      }
    },
    {
      "cell_type": "code",
      "source": [
        "# 내 답안\n",
        "student = ['강은지','김유정','박현서','최성훈','홍유진',\n",
        "           '박지호','권윤일','김채리','한지호','김진이',\n",
        "           '김민호','강채연']\n",
        "\n",
        "for i, k in enumerate(sorted(student)) :\n",
        "  print(f'번호: {i+1}, 이름: {k}')"
      ],
      "metadata": {
        "id": "g5b7_xXdIZR2"
      },
      "execution_count": null,
      "outputs": []
    },
    {
      "cell_type": "markdown",
      "source": [
        "### **(1) 개념**\n",
        "리스트 a 가 있을 때,  \n",
        "\n",
        "a.sort()  \n",
        "sorted(a)  \n",
        "enumerate(a)\n",
        "\n",
        "\n",
        "---\n",
        "a 의 값을 오름차순으로 정렬  \n",
        "오름차순으로 정렬된 a 를 불러옴(실제 a 에는 영향 없음)  \n",
        "a 의 값들을 인덱스와 짝지음"
      ],
      "metadata": {
        "id": "-o2v0vRaIe2v"
      }
    },
    {
      "cell_type": "code",
      "source": [
        "a = ['제시카', '김범수', '티파니', '윤하']\n",
        "a.sort()\n",
        "print(a)"
      ],
      "metadata": {
        "colab": {
          "base_uri": "https://localhost:8080/"
        },
        "id": "2LBfRX5xI2bF",
        "outputId": "a97c06cf-45f3-48c7-ed14-7eb85cbf66cc"
      },
      "execution_count": null,
      "outputs": [
        {
          "output_type": "stream",
          "name": "stdout",
          "text": [
            "['김범수', '윤하', '제시카', '티파니']\n"
          ]
        }
      ]
    },
    {
      "cell_type": "code",
      "source": [
        "a = ['제시카', '김범수', '티파니', '윤하']\n",
        "print(sorted(a))\n",
        "print(a)"
      ],
      "metadata": {
        "colab": {
          "base_uri": "https://localhost:8080/"
        },
        "id": "uLpgJsXaJBm8",
        "outputId": "8c6e85cc-fc49-40ff-f078-df5a72bb6953"
      },
      "execution_count": null,
      "outputs": [
        {
          "output_type": "stream",
          "name": "stdout",
          "text": [
            "['김범수', '윤하', '제시카', '티파니']\n",
            "['제시카', '김범수', '티파니', '윤하']\n"
          ]
        }
      ]
    },
    {
      "cell_type": "code",
      "source": [
        "a = ['제시카', '김범수', '티파니', '윤하']\n",
        "print(enumerate(a))\n",
        "print(list(enumerate(a))) # 실제 어떤 식으로 나오는지 보기 위해 list 로 만들었음"
      ],
      "metadata": {
        "colab": {
          "base_uri": "https://localhost:8080/"
        },
        "id": "5SgAX5SGJNJA",
        "outputId": "684949f4-bb89-421e-a58a-190a0c6ddd04"
      },
      "execution_count": null,
      "outputs": [
        {
          "output_type": "stream",
          "name": "stdout",
          "text": [
            "<enumerate object at 0x7f7b23bb3140>\n",
            "[(0, '제시카'), (1, '김범수'), (2, '티파니'), (3, '윤하')]\n"
          ]
        }
      ]
    },
    {
      "cell_type": "markdown",
      "source": [
        "# *3. PL004 조건문*\n",
        "https://futureskill.io/content/85ed334a-4170-491b-9cf6-fcafd3de45ba"
      ],
      "metadata": {
        "id": "yNnNlzvXLWly"
      }
    },
    {
      "cell_type": "markdown",
      "source": [
        "## 5) 자동 입장료 계산기 (조건문)\n",
        "\n",
        "### **문제**\n",
        "다음과 같은 Output을 얻는 코드를 작성하세요.\n",
        "\n",
        "\n",
        "### **조건**\n",
        "입장료는 나이에 따라 다릅니다.  \n",
        "20세 이상 : 8000원  \n",
        "10세 ~ 19세 : 5000원  \n",
        "10세 미만 : 2500원  \n",
        "for 를 이용하여 ages 에 저장되어있는 나이를 검사하세요.  \n",
        "나이에 따라 total_price 에 입장료를 더하세요.\n",
        "\n",
        "\n",
        "### **베이스라인**\n",
        "```\n",
        "total_price = 0\n",
        "ages = [22,21,17,32,4,28,19,8]\n",
        "\n",
        "'''\n",
        "code here\n",
        "'''\n",
        "```\n",
        "\n",
        "### **Output**\n",
        "```\n",
        "총 입장료는 47000원 입니다.\n",
        "```"
      ],
      "metadata": {
        "id": "clorY5sOLnKc"
      }
    },
    {
      "cell_type": "code",
      "source": [
        "# 내 답안\n",
        "total_price = 0\n",
        "ages = [22,21,17,32,4,28,19,8]\n",
        "\n",
        "for age in ages :\n",
        "  if age >= 20 :\n",
        "    total_price += 8000\n",
        "  elif 10 <= age <= 19 :\n",
        "    total_price += 5000\n",
        "  else :\n",
        "    total_price += 2500 \n",
        "\n",
        "print(f'총 입장료는 {total_price}원 입니다.')"
      ],
      "metadata": {
        "id": "e4y7zQPNLw_g"
      },
      "execution_count": null,
      "outputs": []
    },
    {
      "cell_type": "markdown",
      "source": [
        "## 7) 사탕 도둑을 잡아라 (조건문)\n",
        "\n",
        "### **문제**\n",
        "다음과 같은 Output을 얻는 코드를 작성하세요.\n",
        "\n",
        "\n",
        "### **조건**\n",
        "사탕을 모두 도둑맞은 도도새는 범인을 찾고자 합니다.\n",
        "\n",
        "도도새는 도둑의 인상착의를 암컷 개로 기억하고 있습니다.\n",
        "\n",
        "용의자suspects 중에서 도둑을 찾는 코드를 for 과 if 를 이용해서 찾아주세요.\n",
        "\n",
        "\n",
        "### **베이스라인**\n",
        "```\n",
        "suspects = [['거위','새','암컷'],['푸들','개','수컷'],['비글','개','암컷']]\n",
        "\n",
        "'''\n",
        "code here\n",
        "'''\n",
        "```\n",
        "\n",
        "### **Output**\n",
        "```\n",
        "범인은 비글입니다!\n",
        "```"
      ],
      "metadata": {
        "id": "XkqYFolmMfyM"
      }
    },
    {
      "cell_type": "code",
      "source": [
        "# 내 답안\n",
        "suspects = [['거위','새','암컷'],['푸들','개','수컷'],['비글','개','암컷']]\n",
        "\n",
        "for suspect in suspects :\n",
        "  if suspect[1] == '개' and suspect[2] == '암컷':\n",
        "    print(f'범인은 {suspect[0]}입니다!')"
      ],
      "metadata": {
        "colab": {
          "base_uri": "https://localhost:8080/"
        },
        "id": "JxzUfeTaKKl4",
        "outputId": "40b41bbd-f760-4c67-8de6-1557c5d889d7"
      },
      "execution_count": null,
      "outputs": [
        {
          "output_type": "stream",
          "name": "stdout",
          "text": [
            "범인은 비글입니다!\n"
          ]
        }
      ]
    },
    {
      "cell_type": "code",
      "source": [
        "# 다른 사람 답안\n",
        "suspects = [['거위','새','암컷'],['푸들','개','수컷'],['비글','개','암컷']]\n",
        "\n",
        "for idx,i in enumerate(suspects):\n",
        "    if \"개\" in i and \"암컷\" in i :\n",
        "        print(f\"범인은 바로 너! {suspects[idx][0]}\")"
      ],
      "metadata": {
        "id": "8gt4qY0TLO-1"
      },
      "execution_count": null,
      "outputs": []
    }
  ]
}